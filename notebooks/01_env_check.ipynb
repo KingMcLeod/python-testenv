{
 "cells": [
  {
   "cell_type": "code",
   "execution_count": null,
   "id": "87168e48",
   "metadata": {},
   "outputs": [],
   "source": [
    "%%timeit\n",
    "import math"
   ]
  },
  {
   "cell_type": "code",
   "execution_count": null,
   "id": "05d2b3a7",
   "metadata": {},
   "outputs": [],
   "source": [
    "%%timeit \n",
    "my_list = [x**2 for x in range(5)]\n"
   ]
  }
 ],
 "metadata": {
  "language_info": {
   "name": "python"
  }
 },
 "nbformat": 4,
 "nbformat_minor": 5
}
